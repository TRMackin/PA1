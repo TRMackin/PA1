{
 "cells": [
  {
   "cell_type": "markdown",
   "id": "212ad480",
   "metadata": {},
   "source": [
    "# Programming Assignment 1\n",
    "### Thomas Mackin\n",
    "#### Version 2\n",
    "#### CS-150-01 Fall 2022"
   ]
  },
  {
   "cell_type": "code",
   "execution_count": 1,
   "id": "d9a7da7a",
   "metadata": {},
   "outputs": [
    {
     "name": "stdout",
     "output_type": "stream",
     "text": [
      "Enter a floating point number:44.3\n"
     ]
    }
   ],
   "source": [
    "number1=float(input(\"Enter a floating point number:\"))"
   ]
  },
  {
   "cell_type": "code",
   "execution_count": 2,
   "id": "ad339a73",
   "metadata": {},
   "outputs": [
    {
     "name": "stdout",
     "output_type": "stream",
     "text": [
      "Enter an integer:16\n"
     ]
    }
   ],
   "source": [
    "number2=int(input(\"Enter an integer:\"))"
   ]
  },
  {
   "cell_type": "code",
   "execution_count": 3,
   "id": "368c4fdc",
   "metadata": {},
   "outputs": [
    {
     "name": "stdout",
     "output_type": "stream",
     "text": [
      "The sum is 60.3\n"
     ]
    }
   ],
   "source": [
    "print(\"The sum is\", (number1+number2))"
   ]
  },
  {
   "cell_type": "code",
   "execution_count": 4,
   "id": "01c90494",
   "metadata": {},
   "outputs": [
    {
     "name": "stdout",
     "output_type": "stream",
     "text": [
      "The difference is 28.299999999999997\n"
     ]
    }
   ],
   "source": [
    "print(\"The difference is\", (number1-number2))"
   ]
  },
  {
   "cell_type": "code",
   "execution_count": 5,
   "id": "cef7106c",
   "metadata": {},
   "outputs": [
    {
     "name": "stdout",
     "output_type": "stream",
     "text": [
      "The product is 708.8\n"
     ]
    }
   ],
   "source": [
    "print(\"The product is\", (number1*number2))"
   ]
  },
  {
   "cell_type": "code",
   "execution_count": 6,
   "id": "623a89fb",
   "metadata": {},
   "outputs": [
    {
     "name": "stdout",
     "output_type": "stream",
     "text": [
      "The quotient is 2.76875\n"
     ]
    }
   ],
   "source": [
    "print(\"The quotient is\", (number1/number2))"
   ]
  },
  {
   "cell_type": "code",
   "execution_count": 7,
   "id": "5129acab",
   "metadata": {},
   "outputs": [
    {
     "name": "stdout",
     "output_type": "stream",
     "text": [
      "The type for this result is <class 'float'>\n"
     ]
    }
   ],
   "source": [
    "print(\"The type for this result is\", type(number1+number2))"
   ]
  }
 ],
 "metadata": {
  "kernelspec": {
   "display_name": "Python 3 (ipykernel)",
   "language": "python",
   "name": "python3"
  },
  "language_info": {
   "codemirror_mode": {
    "name": "ipython",
    "version": 3
   },
   "file_extension": ".py",
   "mimetype": "text/x-python",
   "name": "python",
   "nbconvert_exporter": "python",
   "pygments_lexer": "ipython3",
   "version": "3.9.12"
  }
 },
 "nbformat": 4,
 "nbformat_minor": 5
}
