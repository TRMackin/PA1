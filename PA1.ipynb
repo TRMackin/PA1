{
 "cells": [
  {
   "cell_type": "markdown",
   "id": "212ad480",
   "metadata": {},
   "source": [
    "# Programming Assignment 1\n",
    "### Thomas Mackin\n",
    "#### Version 1\n",
    "#### CS-150-01"
   ]
  },
  {
   "cell_type": "code",
   "execution_count": 1,
   "id": "d9a7da7a",
   "metadata": {},
   "outputs": [],
   "source": [
    "number1=33.1\n",
    "number2=11"
   ]
  },
  {
   "cell_type": "code",
   "execution_count": 2,
   "id": "ad339a73",
   "metadata": {},
   "outputs": [
    {
     "name": "stdout",
     "output_type": "stream",
     "text": [
      "44.1\n"
     ]
    }
   ],
   "source": [
    "print(float(number1 + number2))"
   ]
  },
  {
   "cell_type": "code",
   "execution_count": 3,
   "id": "368c4fdc",
   "metadata": {},
   "outputs": [
    {
     "name": "stdout",
     "output_type": "stream",
     "text": [
      "22.1\n"
     ]
    }
   ],
   "source": [
    "print(float(number1 - number2))"
   ]
  },
  {
   "cell_type": "code",
   "execution_count": 4,
   "id": "01c90494",
   "metadata": {},
   "outputs": [
    {
     "name": "stdout",
     "output_type": "stream",
     "text": [
      "364.1\n"
     ]
    }
   ],
   "source": [
    "print(number1 * number2)"
   ]
  },
  {
   "cell_type": "code",
   "execution_count": 5,
   "id": "cef7106c",
   "metadata": {},
   "outputs": [
    {
     "name": "stdout",
     "output_type": "stream",
     "text": [
      "3.0090909090909093\n"
     ]
    }
   ],
   "source": [
    "print(number1 / number2)"
   ]
  }
 ],
 "metadata": {
  "kernelspec": {
   "display_name": "Python 3 (ipykernel)",
   "language": "python",
   "name": "python3"
  },
  "language_info": {
   "codemirror_mode": {
    "name": "ipython",
    "version": 3
   },
   "file_extension": ".py",
   "mimetype": "text/x-python",
   "name": "python",
   "nbconvert_exporter": "python",
   "pygments_lexer": "ipython3",
   "version": "3.9.12"
  }
 },
 "nbformat": 4,
 "nbformat_minor": 5
}
